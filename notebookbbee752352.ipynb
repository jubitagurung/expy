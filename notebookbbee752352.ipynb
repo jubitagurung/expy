{
 "cells": [
  {
   "cell_type": "code",
   "execution_count": 1,
   "id": "6fc2f09f",
   "metadata": {
    "execution": {
     "iopub.execute_input": "2024-04-12T17:08:34.530628Z",
     "iopub.status.busy": "2024-04-12T17:08:34.529883Z",
     "iopub.status.idle": "2024-04-12T17:08:35.332772Z",
     "shell.execute_reply": "2024-04-12T17:08:35.331978Z"
    },
    "papermill": {
     "duration": 0.809938,
     "end_time": "2024-04-12T17:08:35.335073",
     "exception": false,
     "start_time": "2024-04-12T17:08:34.525135",
     "status": "completed"
    },
    "tags": []
   },
   "outputs": [],
   "source": [
    "import pandas as pd"
   ]
  },
  {
   "cell_type": "markdown",
   "id": "b520f8b2",
   "metadata": {
    "papermill": {
     "duration": 0.001401,
     "end_time": "2024-04-12T17:08:35.338495",
     "exception": false,
     "start_time": "2024-04-12T17:08:35.337094",
     "status": "completed"
    },
    "tags": []
   },
   "source": [
    "pd.DataFrame({'Yes': [50, 21], 'No': [131, 2]})\n"
   ]
  },
  {
   "cell_type": "code",
   "execution_count": 2,
   "id": "bde90bb1",
   "metadata": {
    "execution": {
     "iopub.execute_input": "2024-04-12T17:08:35.343405Z",
     "iopub.status.busy": "2024-04-12T17:08:35.342559Z",
     "iopub.status.idle": "2024-04-12T17:08:35.358707Z",
     "shell.execute_reply": "2024-04-12T17:08:35.357754Z"
    },
    "papermill": {
     "duration": 0.020636,
     "end_time": "2024-04-12T17:08:35.360706",
     "exception": false,
     "start_time": "2024-04-12T17:08:35.340070",
     "status": "completed"
    },
    "tags": []
   },
   "outputs": [
    {
     "data": {
      "text/html": [
       "<div>\n",
       "<style scoped>\n",
       "    .dataframe tbody tr th:only-of-type {\n",
       "        vertical-align: middle;\n",
       "    }\n",
       "\n",
       "    .dataframe tbody tr th {\n",
       "        vertical-align: top;\n",
       "    }\n",
       "\n",
       "    .dataframe thead th {\n",
       "        text-align: right;\n",
       "    }\n",
       "</style>\n",
       "<table border=\"1\" class=\"dataframe\">\n",
       "  <thead>\n",
       "    <tr style=\"text-align: right;\">\n",
       "      <th></th>\n",
       "      <th>Apple</th>\n",
       "      <th>Mango</th>\n",
       "    </tr>\n",
       "  </thead>\n",
       "  <tbody>\n",
       "    <tr>\n",
       "      <th>0</th>\n",
       "      <td>120</td>\n",
       "      <td>90</td>\n",
       "    </tr>\n",
       "    <tr>\n",
       "      <th>1</th>\n",
       "      <td>111</td>\n",
       "      <td>150</td>\n",
       "    </tr>\n",
       "  </tbody>\n",
       "</table>\n",
       "</div>"
      ],
      "text/plain": [
       "   Apple  Mango\n",
       "0    120     90\n",
       "1    111    150"
      ]
     },
     "execution_count": 2,
     "metadata": {},
     "output_type": "execute_result"
    }
   ],
   "source": [
    "pd.DataFrame({\"Apple\":[120, 111], \"Mango\":[90, 150]})"
   ]
  }
 ],
 "metadata": {
  "kaggle": {
   "accelerator": "none",
   "dataSources": [],
   "dockerImageVersionId": 30684,
   "isGpuEnabled": false,
   "isInternetEnabled": false,
   "language": "python",
   "sourceType": "notebook"
  },
  "kernelspec": {
   "display_name": "Python 3",
   "language": "python",
   "name": "python3"
  },
  "language_info": {
   "codemirror_mode": {
    "name": "ipython",
    "version": 3
   },
   "file_extension": ".py",
   "mimetype": "text/x-python",
   "name": "python",
   "nbconvert_exporter": "python",
   "pygments_lexer": "ipython3",
   "version": "3.10.13"
  },
  "papermill": {
   "default_parameters": {},
   "duration": 6.965066,
   "end_time": "2024-04-12T17:08:38.871702",
   "environment_variables": {},
   "exception": null,
   "input_path": "__notebook__.ipynb",
   "output_path": "__notebook__.ipynb",
   "parameters": {},
   "start_time": "2024-04-12T17:08:31.906636",
   "version": "2.5.0"
  }
 },
 "nbformat": 4,
 "nbformat_minor": 5
}
